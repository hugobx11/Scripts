{
 "cells": [
  {
   "cell_type": "code",
   "execution_count": null,
   "id": "d66d34e1",
   "metadata": {},
   "outputs": [
    {
     "name": "stdout",
     "output_type": "stream",
     "text": [
      "Colonnes de l'ancien fichier:\n",
      "['sons_count', 'treated_for_metabolism', 'birth_date', 'listen_to_music_level', 'has_seen_ent', 'brothers_count', 'mother_spoken_languages', 'female_household_size', 'weight', 'play_music_instrument', 'noisy_workplace', 'sing_since', 'ent_what_for', 'make_interlocutor_repeat', 'care_access', 'difficulty_when_crowded', 'environment_exposition', 'height', 'listen_to_music_source', 'leave_noisy_room', 'spoken_languages', 'contraception', 'tg', 'natural_birth', 'sing_who', 'hearing_treatment', 'total_household_size', 'sick_or_invalid', 'people_speak_low_or_fast', 'progesterone', 'play_music_in_family', 'population_id', 'education', 'journey_time', 'maternal_grandparents_spoken_languages', 'listen_to_music_since', 'headset', 'male_household_size', 'listen_to_music_duration', 'csection', 'interlocutors', 'father_birth_place', 'sick_or_invalid_why', 'difficulty_when_noisy', 'mothers_count', 'profession', 'testosterone', 'breastfeeding', 'play_music', 'noisy_workplace_why', 'knife_hand', 'traditional_care_products', 'distance', 'medical_care_frequency', 'laterality', 'estradiol', 'traditional_care', 'same_mother', 'selfreported_hearing_symptoms', 'treated_for_metabolism_why', 'father_spoken_languages', 'traditional_care_frequency', 'daughters_count', 'noisy_house_why', 'play_music_since', 'listen_to_music', 'paternal_grandparents_spoken_languages', 'chol', 'waist_size', 'noisy_house', 'ent_found_problem', 'remarks', 'birth_place', 'medical_care_distance', 'tube_code', 'medical_care_medication', 'sisters_count', 'sing', 'hip_size', 'sex', 'sing_in_family', 'lives_on_site_since', 'married', 'mother_birth_place', 'pregnant', 'environment_biotope', 'sing_context', 'lang_group', 'lang_ssgroup', 'Karakalpak', 'Russian', 'Kichwa', 'Spanish', 'English', 'French', 'Fang', 'Fang Mueng', 'Baka', 'Nkomi', 'Gisir', 'Fang Ntumu', 'Kako', 'Bulu', 'Bassa', 'Beti', 'Eton', 'Afrikaans', 'Yoruba', 'Xhosa', 'Tshivenda', 'Setswana', 'Venda', 'Zulu', 'Ndebele', 'Northern Sotho', 'Southern Sotho', 'Tsonga', 'Fante', 'Swati', 'Welsh', 'Italian', 'Uzbek', 'Tajik', 'Nb_lang']\n",
      "Nombre de colonnes en commun: 124\n",
      "\n",
      "Colonnes du nouveau fichier:\n",
      "['Population', 'how_many_pets', 'birth_place', 'make_interlocutor_repeat', 'spoken_languages', 'has_seen_ent', 'play_music_in_family', 'father_birth_place', 'listen_to_music_duration', 'daughters_count', 'noisy_house', 'works_outside_environment', 'profession', 'sing_context', 'married', 'headset', 'female_household_size', 'children_spoken_languages', 'sick_or_invalid_why', 'male_household_size', 'tube_code', 'sisters_count', 'drinks', 'breastfeeding', 'mother_spoken_languages', 'earwax_e1_volume', 'traditional_care_products', 'play_music_since', 'ent_found_problem', 'form_file', 'care_access', 'environment', 'connectivity', 'treated_for_metabolism_why', 'earwax_e1_saliva_kept', 'listen_to_music', 'treated_for_metabolism', 'estradiol', 'diet_content', 'e1_nanodropt', 'medical_care_frequency', 'sick_or_invalid', 'earwax_e1_comment', 'has_pets', 'brothers_count', 'chol', 'hours_outside', 'contraception', 'selfreported_hearing_symptoms', 'weight', 'e1_comment', 'leave_noisy_room', 'e1_date', 'distance', 'sons_count', 'birth', 'water_source', 'remarks', 'noisy_workplace_why', 'difficulty_when_crowded', 'listen_to_music_level', 'hearing_treatment', 'power_source', 'waist_size', 'birth_date', 'e1_saliva_kept', 'environment_exposition', 'earwax_e1_date', 'tg', 'height', 'noisy_house_why', 'e1_ratio_260_280', 'sex', 'maternal_grandparents_spoken_languages', 'journey_time', 'washing_agent', 'earwax_e1_handler', 'ent_what_for', 'traditional_care', 'diet_organic', 'play_music', 'earwax_e1_qubit', 'uses_chemical_products', 'works_with_animals', 'interlocutors', 'progesterone', 'e1_handler', 'mother_birth_place', 'paternal_grandparents_spoken_languages', 'medical_care_distance', 'mothers_count', 'listen_to_music_since', 'hip_size', 'environment_biotope', 'smokes', 'transport_type', 'father_spoken_languages', 'knife_hand', 'house_type', 'same_mother', 'noisy_workplace', 'listen_to_music_source', 'earwax_e1_nanodropt', 'earwax_e1_ratio_260_280', 'diet_type', 'transport_hour_per_day', 'play_music_instrument', 'uses_perfume', 'lives_on_site_since', 'uses_earplug', 'works_in_closed_environment', 'earwax_e1_ratio_260_230', 'people_speak_low_or_fast', 'e1_ratio_260_230', 'medical_service', 'sing_since', 'population_id', 'education', 'e1_volume', 'traditional_care_frequency', 'pregnant', 'sing_in_family', 'sing_who', 'days_without_touching_ear', 'laterality', 'diet_drink', 'total_household_size', 'sing', 'medical_care_medication', 'testosterone', 'form_file_type', 'e1_qubit']\n",
      "Nombre de colonnes en commun: 132\n",
      "\n",
      "Colonnes en commun:\n",
      "{'sing_in_family', 'hearing_treatment', 'tg', 'lives_on_site_since', 'medical_care_frequency', 'father_spoken_languages', 'ent_what_for', 'distance', 'sing', 'spoken_languages', 'treated_for_metabolism_why', 'traditional_care', 'same_mother', 'female_household_size', 'contraception', 'has_seen_ent', 'laterality', 'sick_or_invalid', 'brothers_count', 'listen_to_music_since', 'mothers_count', 'medical_care_medication', 'sisters_count', 'play_music_since', 'weight', 'make_interlocutor_repeat', 'tube_code', 'mother_birth_place', 'journey_time', 'care_access', 'education', 'mother_spoken_languages', 'listen_to_music_level', 'progesterone', 'play_music_in_family', 'listen_to_music', 'testosterone', 'birth_place', 'ent_found_problem', 'married', 'headset', 'sing_who', 'selfreported_hearing_symptoms', 'chol', 'breastfeeding', 'father_birth_place', 'noisy_house', 'hip_size', 'traditional_care_frequency', 'noisy_workplace', 'pregnant', 'sex', 'sick_or_invalid_why', 'play_music_instrument', 'listen_to_music_duration', 'medical_care_distance', 'leave_noisy_room', 'play_music', 'noisy_workplace_why', 'traditional_care_products', 'remarks', 'waist_size', 'people_speak_low_or_fast', 'height', 'daughters_count', 'knife_hand', 'listen_to_music_source', 'total_household_size', 'sing_since', 'environment_exposition', 'sing_context', 'sons_count', 'difficulty_when_crowded', 'birth_date', 'population_id', 'treated_for_metabolism', 'paternal_grandparents_spoken_languages', 'male_household_size', 'maternal_grandparents_spoken_languages', 'interlocutors', 'profession', 'noisy_house_why', 'estradiol', 'environment_biotope'}\n",
      "Nombre de colonnes en commun: 84\n",
      "\n",
      "Colonnes de l'ancien fichier qui ne sont pas présentes dans le nouveau fichier:\n",
      "{'Fante', 'Tajik', 'Italian', 'Venda', 'Gisir', 'csection', 'Spanish', 'Southern Sotho', 'Nkomi', 'Bassa', 'Ndebele', 'Swati', 'Fang', 'Tshivenda', 'English', 'Tsonga', 'Welsh', 'lang_group', 'Fang Ntumu', 'Afrikaans', 'Fang Mueng', 'French', 'Russian', 'Eton', 'Setswana', 'Baka', 'lang_ssgroup', 'difficulty_when_noisy', 'Zulu', 'Nb_lang', 'Karakalpak', 'Kichwa', 'Beti', 'Uzbek', 'Xhosa', 'natural_birth', 'Northern Sotho', 'Bulu', 'Yoruba', 'Kako'}\n",
      "Nombre de colonnes manquantes: 40\n",
      "\n",
      "Colonnes supplémentaires dans le nouveau fichier:\n",
      "{'e1_saliva_kept', 'form_file_type', 'earwax_e1_saliva_kept', 'earwax_e1_date', 'form_file', 'e1_qubit', 'e1_comment', 'earwax_e1_nanodropt', 'days_without_touching_ear', 'birth', 'works_outside_environment', 'environment', 'diet_organic', 'Population', 'uses_chemical_products', 'e1_ratio_260_280', 'e1_handler', 'works_with_animals', 'diet_drink', 'earwax_e1_ratio_260_280', 'earwax_e1_ratio_260_230', 'drinks', 'how_many_pets', 'diet_content', 'diet_type', 'house_type', 'power_source', 'uses_perfume', 'smokes', 'transport_type', 'washing_agent', 'works_in_closed_environment', 'connectivity', 'e1_volume', 'water_source', 'has_pets', 'uses_earplug', 'e1_date', 'hours_outside', 'e1_nanodropt', 'e1_ratio_260_230', 'earwax_e1_volume', 'earwax_e1_qubit', 'transport_hour_per_day', 'medical_service', 'earwax_e1_handler', 'earwax_e1_comment', 'children_spoken_languages'}\n",
      "Nombre de colonnes supplémentaires: 48\n"
     ]
    }
   ],
   "source": [
    "import pandas as pd\n",
    "\n",
    "# Lire les noms de colonnes des deux fichiers\n",
    "column_names_anthr_old = pd.read_csv(f\"datas/anthropo-data (1).csv\", sep=';', header=None).iloc[0].tolist()\n",
    "with open(\"datas/anthropo-data (15).csv\", 'r', encoding='utf-8') as f:\n",
    "    first_line = f.readline()\n",
    "column_names_anthr_new = first_line.strip().split(';')\n",
    "\n",
    "print(\"Colonnes de l'ancien fichier:\")\n",
    "print(column_names_anthr_old)\n",
    "print(f\"Nombre de colonnes en commun: {len(column_names_anthr_old)}\\n\")\n",
    "\n",
    "print(\"Colonnes du nouveau fichier:\")\n",
    "print(column_names_anthr_new)\n",
    "print(f\"Nombre de colonnes en commun: {len(column_names_anthr_new)}\\n\")\n",
    "\n",
    "# Convertir en sets pour faciliter les comparaisons\n",
    "set_old = set(column_names_anthr_old)\n",
    "set_new = set(column_names_anthr_new)\n",
    "\n",
    "# Trouver les colonnes en commun\n",
    "common_columns = set_old.intersection(set_new)\n",
    "print(\"Colonnes en commun:\")\n",
    "print(common_columns)\n",
    "print(f\"Nombre de colonnes en commun: {len(common_columns)}\\n\")\n",
    "\n",
    "# Vérifier si toutes les colonnes de l'ancien fichier sont présentes dans le nouveau\n",
    "if set_old.issubset(set_new):\n",
    "    print(\"Toutes les colonnes de l'ancien fichier sont présentes dans le nouveau fichier.\")\n",
    "else:\n",
    "    missing_columns = set_old - set_new\n",
    "    print(\"Colonnes de l'ancien fichier qui ne sont pas présentes dans le nouveau fichier:\")\n",
    "    print(missing_columns)\n",
    "    print(f\"Nombre de colonnes manquantes: {len(missing_columns)}\\n\")\n",
    "\n",
    "# Colonnes supplémentaires dans le nouveau fichier (optionnel)\n",
    "additional_columns = set_new - set_old\n",
    "if additional_columns:\n",
    "    print(\"Colonnes supplémentaires dans le nouveau fichier:\")\n",
    "    print(additional_columns)\n",
    "    print(f\"Nombre de colonnes supplémentaires: {len(additional_columns)}\")\n",
    "else:\n",
    "    print(\"Le nouveau fichier ne contient pas de colonnes supplémentaires par rapport à l'ancien.\")"
   ]
  }
 ],
 "metadata": {
  "kernelspec": {
   "display_name": "Python 3",
   "language": "python",
   "name": "python3"
  },
  "language_info": {
   "codemirror_mode": {
    "name": "ipython",
    "version": 3
   },
   "file_extension": ".py",
   "mimetype": "text/x-python",
   "name": "python",
   "nbconvert_exporter": "python",
   "pygments_lexer": "ipython3",
   "version": "3.12.4"
  }
 },
 "nbformat": 4,
 "nbformat_minor": 5
}
